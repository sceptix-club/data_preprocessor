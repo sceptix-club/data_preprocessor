{
 "cells": [
  {
   "cell_type": "code",
   "execution_count": null,
   "metadata": {
    "vscode": {
     "languageId": "plaintext"
    }
   },
   "outputs": [],
   "source": [
    "pip install pymupdf pillow"
   ]
  },
  {
   "cell_type": "code",
   "execution_count": null,
   "metadata": {
    "vscode": {
     "languageId": "plaintext"
    }
   },
   "outputs": [],
   "source": [
    "#pdf pages converted into images and saved\n",
    "import fitz  # PyMuPDF\n",
    "from PIL import Image\n",
    "\n",
    "def convert_pdf_to_images(pdf_path, output_folder=\"output_images\"):\n",
    "    # Open the PDF\n",
    "    pdf_document = fitz.open(pdf_path)\n",
    "    \n",
    "    # Create output folder if it doesn't exist\n",
    "    import os\n",
    "    os.makedirs(output_folder, exist_ok=True)\n",
    "    \n",
    "  \n",
    "    for page_num in range(len(pdf_document)):\n",
    "        page = pdf_document.load_page(page_num)  # Load page\n",
    "        pix = page.get_pixmap()  # Render page to an image (pixel map)\n",
    "        \n",
    "        # Save the image\n",
    "        image_path = f\"{output_folder}/page_{page_num + 1}.png\"\n",
    "        pix.save(image_path)\n",
    "        print(f\"Saved {image_path}\")\n",
    "\n",
    "# Usage\n",
    "convert_pdf_to_images(\"/content/acetone-acs-l.pdf\")"
   ]
  },
  {
   "cell_type": "code",
   "execution_count": null,
   "metadata": {
    "vscode": {
     "languageId": "plaintext"
    }
   },
   "outputs": [],
   "source": [
    "from PIL import Image\n",
    "import matplotlib.pyplot as plt\n",
    "\n",
    "# List of image paths\n",
    "image_paths = [\n",
    "    'output_images/page_1.png',\n",
    "    'output_images/page_2.png',\n",
    "    'output_images/page_3.png',\n",
    "    'output_images/page_4.png',\n",
    "    'output_images/page_5.png',\n",
    "    'output_images/page_6.png',\n",
    "    'output_images/page_7.png',\n",
    "    'output_images/page_8.png',\n",
    "    'output_images/page_9.png'\n",
    "]\n",
    "\n",
    "# Set up the plot\n",
    "plt.figure(figsize=(15, 10))\n",
    "\n",
    "# Loop through each image and display it\n",
    "for i, image_path in enumerate(image_paths, start=1):\n",
    "    img = Image.open(image_path)\n",
    "    \n",
    "    plt.subplot(3, 3, i)  # Adjust the grid size if needed\n",
    "    plt.imshow(img)\n",
    "    plt.axis('off')  # Turn off axis labels\n",
    "    plt.title(f'Image {i}')  # Add a title for each image\n",
    "\n",
    "plt.tight_layout()\n",
    "plt.show()"
   ]
  },
  {
   "cell_type": "code",
   "execution_count": null,
   "metadata": {
    "vscode": {
     "languageId": "plaintext"
    }
   },
   "outputs": [],
   "source": [
    "!apt-get install tesseract-ocr\n",
    "!pip install pytesseract\n"
   ]
  },
  {
   "cell_type": "code",
   "execution_count": null,
   "metadata": {
    "vscode": {
     "languageId": "plaintext"
    }
   },
   "outputs": [],
   "source": [
    "#using pytesseract to detect key value pairs\n",
    "import pytesseract\n",
    "from PIL import Image\n",
    "import json\n",
    "from google.colab import drive\n",
    "\n",
    "# Mount Google Drive\n",
    "drive.mount('/content/drive')\n",
    "\n",
    "# Load the image using PIL\n",
    "IMAGE_PATH = '/content/page_1.png'\n",
    "img = Image.open(IMAGE_PATH)\n",
    "\n",
    "# Perform OCR using Tesseract\n",
    "result = pytesseract.image_to_string(img)\n",
    "\n",
    "# Remove newline characters from the extracted text\n",
    "cleaned_result = result.replace('\\n', ' ').strip()  # Replaces new lines with space and strips leading/trailing spaces\n",
    "\n",
    "# Print the cleaned extracted text\n",
    "print(cleaned_result)\n",
    "\n",
    "# Specify the JSON file path in your Google Drive\n",
    "json_file_path = '/content/drive/My Drive/extracted_text.json'\n",
    "\n",
    "# Save the cleaned extracted text to a JSON file\n",
    "with open(json_file_path, 'w') as json_file:\n",
    "    json.dump({\"extracted_text\": cleaned_result}, json_file, indent=4)\n",
    "\n",
    "print(f\"Extracted text saved to {json_file_path}\")"
   ]
  }
 ],
 "metadata": {
  "language_info": {
   "name": "python"
  }
 },
 "nbformat": 4,
 "nbformat_minor": 2
}
