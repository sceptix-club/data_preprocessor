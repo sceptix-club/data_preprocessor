{
 "cells": [
  {
   "cell_type": "code",
   "execution_count": 21,
   "id": "106932cf",
   "metadata": {},
   "outputs": [
    {
     "name": "stdout",
     "output_type": "stream",
     "text": [
      "Processed edta--ph--lt.pdf and saved JSON data to edta--ph--lt.json\n"
     ]
    }
   ],
   "source": [
    "import pdfplumber\n",
    "import json\n",
    "import re\n",
    "import os\n",
    "\n",
    "def extract_text_from_pdf_plumber(pdf_path):\n",
    "    with pdfplumber.open(pdf_path) as pdf:\n",
    "        text = \"\"\n",
    "        for page in pdf.pages:\n",
    "            page_text = page.extract_text()\n",
    "            text += page_text + \"\\n\"\n",
    "    return text\n",
    "\n",
    "def load_patterns(config_path):\n",
    "    with open(config_path, 'r') as config_file:\n",
    "        return json.load(config_file)\n",
    "\n",
    "def parse_sds_text(text, patterns):\n",
    "    sds_dict = {}\n",
    "\n",
    "    for section, field_patterns in patterns.items():\n",
    "        sds_dict[section] = {}\n",
    "\n",
    "        for field, pattern in field_patterns.items():\n",
    "            if isinstance(pattern, dict):\n",
    "                # Handle nested dictionary (e.g., Company information)\n",
    "                sds_dict[section][field] = {}\n",
    "                for sub_field, sub_pattern in pattern.items():\n",
    "                    match = re.search(sub_pattern, text)\n",
    "                    if match:\n",
    "                        sds_dict[section][field][sub_field] = match.group(1).strip()\n",
    "            else:\n",
    "                # Handle regular pattern matching\n",
    "                match = re.search(pattern, text)\n",
    "                if match:\n",
    "                    sds_dict[section][field] = match.group(1).strip()\n",
    "\n",
    "    return sds_dict\n",
    "\n",
    "\n",
    "def process_multiple_pdfs(pdf_folder, config_path, output_folder):\n",
    "    # Load regex patterns from config\n",
    "    section_patterns = load_patterns(config_path)\n",
    "    \n",
    "    # Ensure output folder exists\n",
    "    if not os.path.exists(output_folder):\n",
    "        os.makedirs(output_folder)\n",
    "    \n",
    "    # Loop through each PDF file in the folder\n",
    "    for pdf_filename in os.listdir(pdf_folder):\n",
    "        if pdf_filename.endswith(\".pdf\"):\n",
    "            pdf_path = os.path.join(pdf_folder, pdf_filename)\n",
    "            \n",
    "            # Extract text from the PDF\n",
    "            extracted_text = extract_text_from_pdf_plumber(pdf_path)\n",
    "            \n",
    "            # Parse the extracted text using the patterns\n",
    "            sds_data = parse_sds_text(extracted_text, section_patterns)\n",
    "            \n",
    "            # Save the parsed data as JSON\n",
    "            json_filename = os.path.splitext(pdf_filename)[0] + \".json\"\n",
    "            json_path = os.path.join(output_folder, json_filename)\n",
    "            with open(json_path, 'w') as json_file:\n",
    "                json.dump(sds_data, json_file, indent=4)\n",
    "            \n",
    "            print(f\"Processed {pdf_filename} and saved JSON data to {json_filename}\")\n",
    "\n",
    "pdf_folder = \"/home/sabrina/Documents/Project/data/\"\n",
    "config_path = \"/home/sabrina/Documents/Project/config.json\"\n",
    "output_folder = \"/home/sabrina/Documents/Project/json_output/\"\n",
    "\n",
    "process_multiple_pdfs(pdf_folder, config_path, output_folder)\n"
   ]
  }
 ],
 "metadata": {
  "kernelspec": {
   "display_name": "Python 3",
   "language": "python",
   "name": "python3"
  },
  "language_info": {
   "codemirror_mode": {
    "name": "ipython",
    "version": 3
   },
   "file_extension": ".py",
   "mimetype": "text/x-python",
   "name": "python",
   "nbconvert_exporter": "python",
   "pygments_lexer": "ipython3",
   "version": "3.6.15"
  }
 },
 "nbformat": 4,
 "nbformat_minor": 5
}
